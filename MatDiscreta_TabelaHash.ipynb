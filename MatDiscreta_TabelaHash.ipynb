{
  "nbformat": 4,
  "nbformat_minor": 0,
  "metadata": {
    "colab": {
      "provenance": [],
      "authorship_tag": "ABX9TyMQUjSuC/Zo1jgq1MA8DHq1",
      "include_colab_link": true
    },
    "kernelspec": {
      "name": "python3",
      "display_name": "Python 3"
    },
    "language_info": {
      "name": "python"
    }
  },
  "cells": [
    {
      "cell_type": "markdown",
      "metadata": {
        "id": "view-in-github",
        "colab_type": "text"
      },
      "source": [
        "<a href=\"https://colab.research.google.com/github/rayaneCarvalho/Composite/blob/master/MatDiscreta_TabelaHash.ipynb\" target=\"_parent\"><img src=\"https://colab.research.google.com/assets/colab-badge.svg\" alt=\"Open In Colab\"/></a>"
      ]
    },
    {
      "cell_type": "code",
      "execution_count": 76,
      "metadata": {
        "id": "l4s4TMCsWnCD"
      },
      "outputs": [],
      "source": [
        "# Constantes e Funções de Hash\n",
        "\n",
        "VAZIO = -1\n",
        "DISPONIVEL = -3\n",
        "MAX_HISTORICO = 100  # Número máximo de entradas no histórico\n",
        "\n",
        "def hash1(chave, tamanho):\n",
        "    return chave % tamanho\n",
        "\n",
        "def hash2(chave, incremento):\n",
        "    return incremento - (chave % incremento)\n"
      ]
    },
    {
      "cell_type": "code",
      "source": [
        "# Função para Criar a Tabela Hash\n",
        "def criarTabelaHash(tamanho):\n",
        "    return [VAZIO] * tamanho\n",
        "\n",
        "# Função para Inicializar o Histórico de Colisões\n",
        "def criarHistorico():\n",
        "    return [\"\"] * MAX_HISTORICO"
      ],
      "metadata": {
        "id": "59KtBcNrIOxv"
      },
      "execution_count": 77,
      "outputs": []
    },
    {
      "cell_type": "code",
      "source": [
        "# Função para Inserir Chaves com Registro de Colisões\n",
        "def inserirChaves(tabela, tamanho, chaves, incremento, historico):\n",
        "    def tentarInserir(indice, i, chave, historico_idx):\n",
        "        if tabela[indice] == VAZIO or tabela[indice] == DISPONIVEL:\n",
        "            tabela[indice] = chave\n",
        "            print(f\"Chave {chave} inserida na posição {indice}.\")\n",
        "        else:\n",
        "            if historico_idx < MAX_HISTORICO:\n",
        "                historico[historico_idx] = f\"Colisão na posição {indice}, aplicando Double Hashing...\"\n",
        "                print(historico[historico_idx])\n",
        "            novoIndice = (indice + i * hash2(chave, incremento)) % tamanho\n",
        "            if i < tamanho:  # Garantir que não estamos ultrapassando a tabela\n",
        "                tentarInserir(novoIndice, i + 1, chave, historico_idx + 1)\n",
        "            else:\n",
        "                print(\"Tabela cheia, não foi possível inserir a chave.\")\n",
        "\n",
        "    for chave in chaves:\n",
        "        indice = hash1(chave, tamanho)\n",
        "        tentarInserir(indice, 1, chave, 0)\n"
      ],
      "metadata": {
        "id": "zoxvkGoJIQ2X"
      },
      "execution_count": 78,
      "outputs": []
    },
    {
      "cell_type": "code",
      "source": [
        "# Função para Buscar uma Chave com Registro de Colisões\n",
        "def buscarChave(tabela, tamanho, chave, incremento, historico):\n",
        "    def tentarBuscar(indice, i):\n",
        "        if tabela[indice] == VAZIO:\n",
        "            print(f\"Chave {chave} não encontrada.\")\n",
        "            return -1\n",
        "        elif tabela[indice] == chave:\n",
        "            print(f\"Chave {chave} encontrada na posição {indice}.\")\n",
        "            return indice\n",
        "        else:\n",
        "            historico.append(f\"Colisão na posição {indice}, aplicando Double Hashing...\")\n",
        "            print(f\"Colisão na posição {indice}, aplicando Double Hashing...\")\n",
        "            novoIndice = (indice + i * hash2(chave, incremento)) % tamanho\n",
        "            if tabela[novoIndice] != VAZIO and tabela[novoIndice] != DISPONIVEL:\n",
        "                return tentarBuscar(novoIndice, i + 1)\n",
        "            else:\n",
        "                print(f\"Chave {chave} não encontrada.\")\n",
        "                return -1\n",
        "\n",
        "    indice = hash1(chave, tamanho)\n",
        "    return tentarBuscar(indice, 1)\n"
      ],
      "metadata": {
        "id": "kickv9NvpDWr"
      },
      "execution_count": 79,
      "outputs": []
    },
    {
      "cell_type": "code",
      "source": [
        "# Função para Remover uma Chave (Marcar como Available)\n",
        "def removerChaveDisponivel(tabela, tamanho, chave, historico):\n",
        "    indice = buscarChave(tabela, tamanho, chave, historico)\n",
        "    if indice != -1:\n",
        "        tabela[indice] = DISPONIVEL\n",
        "        print(f\"Chave {chave} removida da posição {indice}.\")\n",
        "    else:\n",
        "        print(f\"Chave {chave} não pode ser removida porque não está presente.\")"
      ],
      "metadata": {
        "id": "uCYjgGfApF7I"
      },
      "execution_count": 80,
      "outputs": []
    },
    {
      "cell_type": "code",
      "source": [
        "# Função para Remover uma Chave (Marcar como Available)\n",
        "\n",
        "def removerChaveDisponivel(tabela, tamanho, chave, incremento, historico):\n",
        "    indice = buscarChave(tabela, tamanho, chave, incremento, historico)\n",
        "    if indice != -1:\n",
        "        tabela[indice] = DISPONIVEL\n",
        "        print(f\"Chave {chave} removida da posição {indice}.\")\n",
        "    else:\n",
        "        print(f\"Chave {chave} não pode ser removida porque não está presente.\")\n",
        "\n",
        "# Função para Remover uma Chave e Reorganizar a Tabela\n",
        "\n",
        "def removerChaveReorganizar(tabela, tamanho, chave, incremento, historico):\n",
        "    indice = buscarChave(tabela, tamanho, chave, incremento, historico)\n",
        "    if indice != -1:\n",
        "        tabela[indice] = VAZIO\n",
        "        print(f\"Chave {chave} removida da posição {indice}.\")\n",
        "        tabela = reorganizarTabela(tabela, tamanho, historico)\n",
        "    else:\n",
        "        print(f\"Chave {chave} não pode ser removida porque não está presente.\")\n",
        "    return tabela"
      ],
      "metadata": {
        "id": "bmyB8F-ppIQC"
      },
      "execution_count": 81,
      "outputs": []
    },
    {
      "cell_type": "code",
      "source": [
        "# Função para Exibir a Tabela Hash\n",
        "def exibirTabelaHash(tabela):\n",
        "    print(\"Tabela Hash:\")\n",
        "    for i in range(len(tabela)):\n",
        "        if tabela[i] == VAZIO:\n",
        "            print(f\"[{i}] VAZIO\")\n",
        "        elif tabela[i] == DISPONIVEL:\n",
        "            print(f\"[{i}] DISPONÍVEL\")\n",
        "        else:\n",
        "            print(f\"[{i}] {tabela[i]}\")"
      ],
      "metadata": {
        "id": "LyeDTZo-pMpI"
      },
      "execution_count": 82,
      "outputs": []
    },
    {
      "cell_type": "code",
      "source": [
        "# Função para Exibir o Histórico de Colisões\n",
        "def exibirHistorico(historico):\n",
        "    print(\"\\nHistórico de Colisões:\")\n",
        "    for entrada in historico:\n",
        "        if entrada:\n",
        "            print(entrada)"
      ],
      "metadata": {
        "id": "vOxD0aA8pQL-"
      },
      "execution_count": 83,
      "outputs": []
    },
    {
      "cell_type": "code",
      "source": [
        "def principal():\n",
        "    tamanho = int(input(\"Digite o tamanho da tabela hash: \"))\n",
        "    incremento = int(input(\"Digite o incremento para Double Hashing: \"))\n",
        "\n",
        "    tabela = criarTabelaHash(tamanho)\n",
        "    historico = criarHistorico()\n",
        "\n",
        "    while True:\n",
        "        print(\"\\nMenu:\")\n",
        "        print(\"1. Inserir chave\")\n",
        "        print(\"2. Inserir múltiplas chaves\")\n",
        "        print(\"3. Buscar chave\")\n",
        "        print(\"4. Remover chave (marcar como Available)\")\n",
        "        print(\"5. Remover chave e reorganizar tabela\")\n",
        "        print(\"6. Exibir tabela hash\")\n",
        "        print(\"7. Exibir histórico de colisões\")\n",
        "        print(\"8. Sair\")\n",
        "        opcao = int(input(\"Escolha uma opção: \"))\n",
        "\n",
        "        if opcao == 1:\n",
        "            chave = int(input(\"Digite a chave a ser inserida: \"))\n",
        "            inserirChaves(tabela, tamanho, [chave], incremento, historico)\n",
        "        elif opcao == 2:\n",
        "            chaves = list(map(int, input(\"Digite as chaves a serem inseridas, separadas por espaço: \").split()))\n",
        "            inserirChaves(tabela, tamanho, chaves, incremento, historico)\n",
        "        elif opcao == 3:\n",
        "            chave = int(input(\"Digite a chave a ser buscada: \"))\n",
        "            buscarChave(tabela, tamanho, chave, incremento, historico)\n",
        "        elif opcao == 4:\n",
        "            chave = int(input(\"Digite a chave a ser removida: \"))\n",
        "            removerChaveDisponivel(tabela, tamanho, chave, incremento, historico)\n",
        "        elif opcao == 5:\n",
        "            chave = int(input(\"Digite a chave a ser removida: \"))\n",
        "            tabela = removerChaveReorganizar(tabela, tamanho, chave, incremento, historico)\n",
        "        elif opcao == 6:\n",
        "            exibirTabelaHash(tabela)\n",
        "        elif opcao == 7:\n",
        "            exibirHistorico(historico)\n",
        "        elif opcao == 8:\n",
        "            print(\"Saindo...\")\n",
        "            break\n",
        "        else:\n",
        "            print(\"Opção inválida!\")\n",
        "\n",
        "if __name__ == \"__main__\":\n",
        "    principal()"
      ],
      "metadata": {
        "colab": {
          "base_uri": "https://localhost:8080/"
        },
        "id": "2342v9AhpSgi",
        "outputId": "581c8273-5198-4b62-d5e2-5abfad7179f2"
      },
      "execution_count": null,
      "outputs": [
        {
          "output_type": "stream",
          "name": "stdout",
          "text": [
            "Digite o tamanho da tabela hash: 23\n",
            "Digite o incremento para Double Hashing: 5\n",
            "\n",
            "Menu:\n",
            "1. Inserir chave\n",
            "2. Inserir múltiplas chaves\n",
            "3. Buscar chave\n",
            "4. Remover chave (marcar como Available)\n",
            "5. Remover chave e reorganizar tabela\n",
            "6. Exibir tabela hash\n",
            "7. Exibir histórico de colisões\n",
            "8. Sair\n",
            "Escolha uma opção: 2\n",
            "Digite as chaves a serem inseridas, separadas por espaço: 4 27 50 73\n",
            "Chave 4 inserida na posição 4.\n",
            "Colisão na posição 4, aplicando Double Hashing...\n",
            "Chave 27 inserida na posição 7.\n",
            "Colisão na posição 4, aplicando Double Hashing...\n",
            "Chave 50 inserida na posição 9.\n",
            "Colisão na posição 4, aplicando Double Hashing...\n",
            "Chave 73 inserida na posição 6.\n",
            "\n",
            "Menu:\n",
            "1. Inserir chave\n",
            "2. Inserir múltiplas chaves\n",
            "3. Buscar chave\n",
            "4. Remover chave (marcar como Available)\n",
            "5. Remover chave e reorganizar tabela\n",
            "6. Exibir tabela hash\n",
            "7. Exibir histórico de colisões\n",
            "8. Sair\n",
            "Escolha uma opção: 4\n",
            "Digite a chave a ser removida: 73\n",
            "Colisão na posição 4, aplicando Double Hashing...\n",
            "Chave 73 encontrada na posição 6.\n",
            "Chave 73 removida da posição 6.\n",
            "\n",
            "Menu:\n",
            "1. Inserir chave\n",
            "2. Inserir múltiplas chaves\n",
            "3. Buscar chave\n",
            "4. Remover chave (marcar como Available)\n",
            "5. Remover chave e reorganizar tabela\n",
            "6. Exibir tabela hash\n",
            "7. Exibir histórico de colisões\n",
            "8. Sair\n",
            "Escolha uma opção: 6\n",
            "Tabela Hash:\n",
            "[0] VAZIO\n",
            "[1] VAZIO\n",
            "[2] VAZIO\n",
            "[3] VAZIO\n",
            "[4] 4\n",
            "[5] VAZIO\n",
            "[6] DISPONÍVEL\n",
            "[7] 27\n",
            "[8] VAZIO\n",
            "[9] 50\n",
            "[10] VAZIO\n",
            "[11] VAZIO\n",
            "[12] VAZIO\n",
            "[13] VAZIO\n",
            "[14] VAZIO\n",
            "[15] VAZIO\n",
            "[16] VAZIO\n",
            "[17] VAZIO\n",
            "[18] VAZIO\n",
            "[19] VAZIO\n",
            "[20] VAZIO\n",
            "[21] VAZIO\n",
            "[22] VAZIO\n",
            "\n",
            "Menu:\n",
            "1. Inserir chave\n",
            "2. Inserir múltiplas chaves\n",
            "3. Buscar chave\n",
            "4. Remover chave (marcar como Available)\n",
            "5. Remover chave e reorganizar tabela\n",
            "6. Exibir tabela hash\n",
            "7. Exibir histórico de colisões\n",
            "8. Sair\n",
            "Escolha uma opção: 4\n",
            "Digite a chave a ser removida: 27\n",
            "Colisão na posição 4, aplicando Double Hashing...\n",
            "Chave 27 encontrada na posição 7.\n",
            "Chave 27 removida da posição 7.\n",
            "\n",
            "Menu:\n",
            "1. Inserir chave\n",
            "2. Inserir múltiplas chaves\n",
            "3. Buscar chave\n",
            "4. Remover chave (marcar como Available)\n",
            "5. Remover chave e reorganizar tabela\n",
            "6. Exibir tabela hash\n",
            "7. Exibir histórico de colisões\n",
            "8. Sair\n",
            "Escolha uma opção: 6\n",
            "Tabela Hash:\n",
            "[0] VAZIO\n",
            "[1] VAZIO\n",
            "[2] VAZIO\n",
            "[3] VAZIO\n",
            "[4] 4\n",
            "[5] VAZIO\n",
            "[6] DISPONÍVEL\n",
            "[7] DISPONÍVEL\n",
            "[8] VAZIO\n",
            "[9] 50\n",
            "[10] VAZIO\n",
            "[11] VAZIO\n",
            "[12] VAZIO\n",
            "[13] VAZIO\n",
            "[14] VAZIO\n",
            "[15] VAZIO\n",
            "[16] VAZIO\n",
            "[17] VAZIO\n",
            "[18] VAZIO\n",
            "[19] VAZIO\n",
            "[20] VAZIO\n",
            "[21] VAZIO\n",
            "[22] VAZIO\n",
            "\n",
            "Menu:\n",
            "1. Inserir chave\n",
            "2. Inserir múltiplas chaves\n",
            "3. Buscar chave\n",
            "4. Remover chave (marcar como Available)\n",
            "5. Remover chave e reorganizar tabela\n",
            "6. Exibir tabela hash\n",
            "7. Exibir histórico de colisões\n",
            "8. Sair\n"
          ]
        }
      ]
    },
    {
      "cell_type": "code",
      "source": [],
      "metadata": {
        "id": "F3ztBSEerHjO"
      },
      "execution_count": null,
      "outputs": []
    }
  ]
}