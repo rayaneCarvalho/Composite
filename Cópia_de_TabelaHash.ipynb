{
  "cells": [
    {
      "cell_type": "markdown",
      "metadata": {
        "id": "view-in-github",
        "colab_type": "text"
      },
      "source": [
        "<a href=\"https://colab.research.google.com/github/rayaneCarvalho/Composite/blob/master/C%C3%B3pia_de_TabelaHash.ipynb\" target=\"_parent\"><img src=\"https://colab.research.google.com/assets/colab-badge.svg\" alt=\"Open In Colab\"/></a>"
      ]
    },
    {
      "cell_type": "code",
      "execution_count": 49,
      "metadata": {
        "id": "l4s4TMCsWnCD"
      },
      "outputs": [],
      "source": [
        "#Constantes e Funções de Hash\n",
        "\n",
        "VAZIO = -1\n",
        "DISPONIVEL = -3\n",
        "MAX_HISTORICO = 100  # Número máximo de entradas no histórico\n",
        "\n",
        "def hash1(chave, tamanho):\n",
        "    return chave % tamanho\n",
        "\n",
        "def hash2(chave, incremento):\n",
        "    return incremento - (chave % incremento)"
      ]
    },
    {
      "cell_type": "code",
      "execution_count": 50,
      "metadata": {
        "id": "59KtBcNrIOxv"
      },
      "outputs": [],
      "source": [
        "#Função para Criar a Tabela Hash\n",
        "\n",
        "def criarTabelaHash(tamanho):\n",
        "    return [VAZIO] * tamanho"
      ]
    },
    {
      "cell_type": "code",
      "execution_count": 51,
      "metadata": {
        "id": "ylowSTeOU8Zu"
      },
      "outputs": [],
      "source": [
        "#Função para Inicializar o Histórico de Colisões\n",
        "\n",
        "def criarHistorico():\n",
        "    return [\"\"] * MAX_HISTORICO"
      ]
    },
    {
      "cell_type": "code",
      "execution_count": 52,
      "metadata": {
        "id": "zoxvkGoJIQ2X"
      },
      "outputs": [],
      "source": [
        "# Função para Inserir Chaves com Registro de Colisões\n",
        "def inserirChaves(tabela, tamanho, chaves, incremento, historico):\n",
        "    def tentarInserir(indice, i, chave, historico_idx):\n",
        "        if tabela[indice] == VAZIO or tabela[indice] == DISPONIVEL:\n",
        "            tabela[indice] = chave\n",
        "            print(f\"Chave {chave} inserida na posição {indice}.\")\n",
        "        else:\n",
        "            if historico_idx < MAX_HISTORICO:\n",
        "                historico[historico_idx] = f\"Colisão na posição {indice}, aplicando Double Hashing...\"\n",
        "                print(historico[historico_idx])\n",
        "            novoIndice = (indice + i * hash2(chave, incremento)) % tamanho\n",
        "            if i < tamanho:  # Garantir que não estamos ultrapassando a tabela\n",
        "                tentarInserir(novoIndice, i + 1, chave, historico_idx + 1)\n",
        "            else:\n",
        "                print(\"Tabela cheia, não foi possível inserir a chave.\")\n",
        "\n",
        "    for chave in chaves:\n",
        "        indice = hash1(chave, tamanho)\n",
        "        tentarInserir(indice, 1, chave, 0)"
      ]
    },
    {
      "cell_type": "code",
      "execution_count": 53,
      "metadata": {
        "id": "BWlz8aqRIWBE"
      },
      "outputs": [],
      "source": [
        "#Função para Buscar uma Chave com Registro de Colisões\n",
        "\n",
        "def buscarChave(tabela, tamanho, chave, historico):\n",
        "    def tentarBuscar(indice, i):\n",
        "        if tabela[indice] == VAZIO:\n",
        "            print(f\"Chave {chave} não encontrada.\")\n",
        "            return -1\n",
        "        elif tabela[indice] == chave:\n",
        "            print(f\"Chave {chave} encontrada na posição {indice}.\")\n",
        "            return indice\n",
        "        else:\n",
        "            historico.append(f\"Colisão na posição {indice}, aplicando Linear Probing...\")\n",
        "            print(f\"Colisão na posição {indice}, aplicando Linear Probing...\")\n",
        "            novoIndice = (indice + i) % tamanho\n",
        "            if tabela[novoIndice] != VAZIO:\n",
        "                return tentarBuscar(novoIndice, i + 1)\n",
        "            else:\n",
        "                print(f\"Chave {chave} não encontrada.\")\n",
        "                return -1\n",
        "\n",
        "    indice = hash1(chave, tamanho)\n",
        "    return tentarBuscar(indice, 1)"
      ]
    },
    {
      "cell_type": "code",
      "execution_count": 54,
      "metadata": {
        "id": "twCApGFAI5SJ"
      },
      "outputs": [],
      "source": [
        "#Função para Remover uma Chave (Marcar como Available)\n",
        "\n",
        "def removerChaveDisponivel(tabela, tamanho, chave, historico):\n",
        "    indice = buscarChave(tabela, tamanho, chave, historico)\n",
        "    if indice != -1:\n",
        "        tabela[indice] = DISPONIVEL\n",
        "        print(f\"Chave {chave} removida da posição {indice}.\")\n",
        "    else:\n",
        "        print(f\"Chave {chave} não pode ser removida porque não está presente.\")"
      ]
    },
    {
      "cell_type": "code",
      "execution_count": 55,
      "metadata": {
        "id": "hHkPC6TUI_cI"
      },
      "outputs": [],
      "source": [
        "#Função para Remover uma Chave e Reorganizar a Tabela\n",
        "\n",
        "def removerChaveReorganizar(tabela, tamanho, chave, historico):\n",
        "    indice = buscarChave(tabela, tamanho, chave, historico)\n",
        "    if indice != -1:\n",
        "        tabela[indice] = VAZIO\n",
        "        print(f\"Chave {chave} removida da posição {indice}.\")\n",
        "        tabela = reorganizarTabela(tabela, tamanho, historico)\n",
        "    else:\n",
        "        print(f\"Chave {chave} não pode ser removida porque não está presente.\")\n",
        "    return tabela\n",
        "\n"
      ]
    },
    {
      "cell_type": "code",
      "execution_count": 56,
      "metadata": {
        "id": "DVfFrx2EJI06"
      },
      "outputs": [],
      "source": [
        "#Função para Reorganizar a Tabela\n",
        "\n",
        "def reorganizarTabela(tabela, tamanho, historico):\n",
        "    novaTabela = criarTabelaHash(tamanho)\n",
        "    for i in range(tamanho):\n",
        "        if tabela[i] != VAZIO and tabela[i] != DISPONIVEL:\n",
        "            chave = tabela[i]\n",
        "            inserirChave(novaTabela, tamanho, [chave], historico)\n",
        "    return novaTabela\n"
      ]
    },
    {
      "cell_type": "code",
      "execution_count": 57,
      "metadata": {
        "id": "vm9fA-S-JMcO"
      },
      "outputs": [],
      "source": [
        "#Função para Exibir a Tabela Hash\n",
        "\n",
        "def exibirTabelaHash(tabela):\n",
        "    print(\"Tabela Hash:\")\n",
        "    for i in range(len(tabela)):\n",
        "        if tabela[i] == VAZIO:\n",
        "            print(f\"[{i}] VAZIO\")\n",
        "        elif tabela[i] == DISPONIVEL:\n",
        "            print(f\"[{i}] DISPONÍVEL\")\n",
        "        else:\n",
        "            print(f\"[{i}] {tabela[i]}\")\n"
      ]
    },
    {
      "cell_type": "code",
      "execution_count": 58,
      "metadata": {
        "id": "lNGd7UanV62j"
      },
      "outputs": [],
      "source": [
        "#Função para Exibir o Histórico de Colisões\n",
        "\n",
        "def exibirHistorico(historico):\n",
        "    print(\"\\nHistórico de Colisões:\")\n",
        "    for entrada in historico:\n",
        "        if entrada:\n",
        "            print(entrada)"
      ]
    },
    {
      "cell_type": "code",
      "execution_count": 59,
      "metadata": {
        "colab": {
          "base_uri": "https://localhost:8080/",
          "height": 540
        },
        "id": "7xFB3uXSJW-_",
        "outputId": "7c545e72-b1d7-4a21-a70a-7fde2179a7d3"
      },
      "outputs": [
        {
          "name": "stdout",
          "output_type": "stream",
          "text": [
            "Digite o tamanho da tabela hash: 23\n",
            "Digite o incremento para Double Hashing: 5\n",
            "\n",
            "Menu:\n",
            "1. Inserir chave\n",
            "2. Inserir múltiplas chaves\n",
            "3. Buscar chave\n",
            "4. Remover chave (marcar como Available)\n",
            "5. Remover chave e reorganizar tabela\n",
            "6. Exibir tabela hash\n",
            "7. Exibir histórico de colisões\n",
            "8. Sair\n",
            "Escolha uma opção: 2\n",
            "Digite as chaves a serem inseridas, separadas por espaço: 15 29 42 44 45 55 68 73\n"
          ]
        },
        {
          "output_type": "error",
          "ename": "TypeError",
          "evalue": "inserirChaves() missing 1 required positional argument: 'historico'",
          "traceback": [
            "\u001b[0;31m---------------------------------------------------------------------------\u001b[0m",
            "\u001b[0;31mTypeError\u001b[0m                                 Traceback (most recent call last)",
            "\u001b[0;32m<ipython-input-59-518966a71c1f>\u001b[0m in \u001b[0;36m<cell line: 47>\u001b[0;34m()\u001b[0m\n\u001b[1;32m     46\u001b[0m \u001b[0;34m\u001b[0m\u001b[0m\n\u001b[1;32m     47\u001b[0m \u001b[0;32mif\u001b[0m \u001b[0m__name__\u001b[0m \u001b[0;34m==\u001b[0m \u001b[0;34m\"__main__\"\u001b[0m\u001b[0;34m:\u001b[0m\u001b[0;34m\u001b[0m\u001b[0;34m\u001b[0m\u001b[0m\n\u001b[0;32m---> 48\u001b[0;31m     \u001b[0mprincipal\u001b[0m\u001b[0;34m(\u001b[0m\u001b[0;34m)\u001b[0m\u001b[0;34m\u001b[0m\u001b[0;34m\u001b[0m\u001b[0m\n\u001b[0m",
            "\u001b[0;32m<ipython-input-59-518966a71c1f>\u001b[0m in \u001b[0;36mprincipal\u001b[0;34m()\u001b[0m\n\u001b[1;32m     25\u001b[0m         \u001b[0;32melif\u001b[0m \u001b[0mopcao\u001b[0m \u001b[0;34m==\u001b[0m \u001b[0;36m2\u001b[0m\u001b[0;34m:\u001b[0m\u001b[0;34m\u001b[0m\u001b[0;34m\u001b[0m\u001b[0m\n\u001b[1;32m     26\u001b[0m             \u001b[0mchaves\u001b[0m \u001b[0;34m=\u001b[0m \u001b[0mlist\u001b[0m\u001b[0;34m(\u001b[0m\u001b[0mmap\u001b[0m\u001b[0;34m(\u001b[0m\u001b[0mint\u001b[0m\u001b[0;34m,\u001b[0m \u001b[0minput\u001b[0m\u001b[0;34m(\u001b[0m\u001b[0;34m\"Digite as chaves a serem inseridas, separadas por espaço: \"\u001b[0m\u001b[0;34m)\u001b[0m\u001b[0;34m.\u001b[0m\u001b[0msplit\u001b[0m\u001b[0;34m(\u001b[0m\u001b[0;34m)\u001b[0m\u001b[0;34m)\u001b[0m\u001b[0;34m)\u001b[0m\u001b[0;34m\u001b[0m\u001b[0;34m\u001b[0m\u001b[0m\n\u001b[0;32m---> 27\u001b[0;31m             \u001b[0minserirChaves\u001b[0m\u001b[0;34m(\u001b[0m\u001b[0mtabela\u001b[0m\u001b[0;34m,\u001b[0m \u001b[0mtamanho\u001b[0m\u001b[0;34m,\u001b[0m \u001b[0mchaves\u001b[0m\u001b[0;34m,\u001b[0m \u001b[0mhistorico\u001b[0m\u001b[0;34m)\u001b[0m\u001b[0;34m\u001b[0m\u001b[0;34m\u001b[0m\u001b[0m\n\u001b[0m\u001b[1;32m     28\u001b[0m         \u001b[0;32melif\u001b[0m \u001b[0mopcao\u001b[0m \u001b[0;34m==\u001b[0m \u001b[0;36m3\u001b[0m\u001b[0;34m:\u001b[0m\u001b[0;34m\u001b[0m\u001b[0;34m\u001b[0m\u001b[0m\n\u001b[1;32m     29\u001b[0m             \u001b[0mchave\u001b[0m \u001b[0;34m=\u001b[0m \u001b[0mint\u001b[0m\u001b[0;34m(\u001b[0m\u001b[0minput\u001b[0m\u001b[0;34m(\u001b[0m\u001b[0;34m\"Digite a chave a ser buscada: \"\u001b[0m\u001b[0;34m)\u001b[0m\u001b[0;34m)\u001b[0m\u001b[0;34m\u001b[0m\u001b[0;34m\u001b[0m\u001b[0m\n",
            "\u001b[0;31mTypeError\u001b[0m: inserirChaves() missing 1 required positional argument: 'historico'"
          ]
        }
      ],
      "source": [
        "#Função Principal\n",
        "\n",
        "def principal():\n",
        "    tamanho = int(input(\"Digite o tamanho da tabela hash: \"))\n",
        "    incremento = int(input(\"Digite o incremento para Double Hashing: \"))\n",
        "\n",
        "    tabela = criarTabelaHash(tamanho)\n",
        "    historico = criarHistorico()\n",
        "\n",
        "    while True:\n",
        "        print(\"\\nMenu:\")\n",
        "        print(\"1. Inserir chave\")\n",
        "        print(\"2. Inserir múltiplas chaves\")\n",
        "        print(\"3. Buscar chave\")\n",
        "        print(\"4. Remover chave (marcar como Available)\")\n",
        "        print(\"5. Remover chave e reorganizar tabela\")\n",
        "        print(\"6. Exibir tabela hash\")\n",
        "        print(\"7. Exibir histórico de colisões\")\n",
        "        print(\"8. Sair\")\n",
        "        opcao = int(input(\"Escolha uma opção: \"))\n",
        "\n",
        "        if opcao == 1:\n",
        "            chave = int(input(\"Digite a chave a ser inserida: \"))\n",
        "            inserirChaves(tabela, tamanho, [chave], historico)\n",
        "        elif opcao == 2:\n",
        "            chaves = list(map(int, input(\"Digite as chaves a serem inseridas, separadas por espaço: \").split()))\n",
        "            inserirChaves(tabela, tamanho, chaves, historico)\n",
        "        elif opcao == 3:\n",
        "            chave = int(input(\"Digite a chave a ser buscada: \"))\n",
        "            buscarChave(tabela, tamanho, chave, historico)\n",
        "        elif opcao == 4:\n",
        "            chave = int(input(\"Digite a chave a ser removida: \"))\n",
        "            removerChaveDisponivel(tabela, tamanho, chave, historico)\n",
        "        elif opcao == 5:\n",
        "            chave = int(input(\"Digite a chave a ser removida: \"))\n",
        "            tabela = removerChaveReorganizar(tabela, tamanho, chave, historico)\n",
        "        elif opcao == 6:\n",
        "            exibirTabelaHash(tabela)\n",
        "        elif opcao == 7:\n",
        "            exibirHistorico(historico)\n",
        "        elif opcao == 8:\n",
        "            print(\"Saindo...\")\n",
        "            break\n",
        "        else:\n",
        "            print(\"Opção inválida!\")\n",
        "\n",
        "if __name__ == \"__main__\":\n",
        "    principal()"
      ]
    },
    {
      "cell_type": "code",
      "execution_count": null,
      "metadata": {
        "id": "Zj3zG-y6JbHr"
      },
      "outputs": [],
      "source": []
    }
  ],
  "metadata": {
    "colab": {
      "provenance": [],
      "authorship_tag": "ABX9TyOIfUqBYQ9JSUypkPU8wSwf",
      "include_colab_link": true
    },
    "kernelspec": {
      "display_name": "Python 3",
      "name": "python3"
    },
    "language_info": {
      "name": "python"
    }
  },
  "nbformat": 4,
  "nbformat_minor": 0
}